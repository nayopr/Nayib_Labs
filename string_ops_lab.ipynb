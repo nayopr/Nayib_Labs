{
 "cells": [
  {
   "cell_type": "code",
   "execution_count": null,
   "id": "dabba503",
   "metadata": {},
   "outputs": [],
   "source": [
    "### pandas string operation lab"
   ]
  },
  {
   "cell_type": "code",
   "execution_count": 1,
   "id": "c9814b45",
   "metadata": {},
   "outputs": [
    {
     "data": {
      "text/plain": [
       "'Durante un tiempo no estuvo segura de si su marido era su marido.'"
      ]
     },
     "execution_count": 1,
     "metadata": {},
     "output_type": "execute_result"
    }
   ],
   "source": [
    "#combine\n",
    "str_list = ['Durante', 'un', 'tiempo', 'no', 'estuvo', 'segura', 'de', 'si', 'su', 'marido', 'era', 'su', 'marido']\n",
    "combine = \" \".join(str_list)+ '.'\n",
    "combine"
   ]
  },
  {
   "cell_type": "code",
   "execution_count": 3,
   "id": "567443eb",
   "metadata": {},
   "outputs": [
    {
     "name": "stdout",
     "output_type": "stream",
     "text": [
      "Grocery List: , bananas, bread, brownie mix, broccoli."
     ]
    }
   ],
   "source": [
    "food_list = ['Bananas', 'Chocolate', 'bread', 'diapers', 'Ice Cream', 'Brownie Mix', 'broccoli']\n",
    "grocery=[\"Grocery List: \"]\n",
    "for item in food_list:\n",
    "    if item.lower().startswith('b'):\n",
    "        grocery.append(item.lower())\n",
    "print(*grocery, sep=\", \", end='.')"
   ]
  },
  {
   "cell_type": "code",
   "execution_count": 4,
   "id": "89eb70d8",
   "metadata": {},
   "outputs": [
    {
     "data": {
      "text/plain": [
       "'The area of the circle with radius: 4.5 is: 63.61725123519331'"
      ]
     },
     "execution_count": 4,
     "metadata": {},
     "output_type": "execute_result"
    }
   ],
   "source": [
    "import math\n",
    "\n",
    "string1 = \"The area of the circle with radius:\"\n",
    "string2  = \"is:\"\n",
    "radius = 4.5\n",
    "pi = math.pi\n",
    "area= pi*radius**2\n",
    "\n",
    "f'{string1} {radius} {string2} {area}'"
   ]
  },
  {
   "cell_type": "code",
   "execution_count": 5,
   "id": "5c9151cc",
   "metadata": {},
   "outputs": [
    {
     "data": {
      "text/plain": [
       "Counter({'some': 2,\n",
       "         'say': 3,\n",
       "         'the': 1,\n",
       "         'world': 1,\n",
       "         'will': 1,\n",
       "         'end': 1,\n",
       "         'in': 2,\n",
       "         'fire': 2,\n",
       "         'ice': 2,\n",
       "         'from': 1,\n",
       "         'what': 1,\n",
       "         'i’ve': 1,\n",
       "         'tasted': 1,\n",
       "         'of': 2,\n",
       "         'desire': 1,\n",
       "         'i': 3,\n",
       "         'hold': 1,\n",
       "         'with': 1,\n",
       "         'those': 1,\n",
       "         'who': 1,\n",
       "         'favor': 1,\n",
       "         'but': 1,\n",
       "         'if': 1,\n",
       "         'it': 1,\n",
       "         'had': 1,\n",
       "         'to': 2,\n",
       "         'perish': 1,\n",
       "         'twice': 1,\n",
       "         'think': 1,\n",
       "         'know': 1,\n",
       "         'enough': 1,\n",
       "         'hate': 1,\n",
       "         'that': 1,\n",
       "         'for': 1,\n",
       "         'destruction': 1,\n",
       "         'is': 1,\n",
       "         'also': 1,\n",
       "         'great': 1,\n",
       "         'and': 1,\n",
       "         'would': 1,\n",
       "         'suffice': 1})"
      ]
     },
     "execution_count": 5,
     "metadata": {},
     "output_type": "execute_result"
    }
   ],
   "source": [
    "poem = \"\"\"Some say the world will end in fire,\n",
    "Some say in ice.\n",
    "From what I’ve tasted of desire\n",
    "I hold with those who favor fire.\n",
    "But if it had to perish twice,\n",
    "I think I know enough of hate\n",
    "To say that for destruction ice\n",
    "Is also great\n",
    "And would suffice.\"\"\"\n",
    "# split/remove/strip strings  \n",
    "poem2=poem.lower().replace(\".\",\"\").replace(\",\",\"\").split()\n",
    "\n",
    "from collections import Counter \n",
    "counts = Counter(poem2)\n",
    "counts"
   ]
  },
  {
   "cell_type": "code",
   "execution_count": 6,
   "id": "997cca87",
   "metadata": {},
   "outputs": [
    {
     "data": {
      "text/plain": [
       "'i was angry with my friend i told my wrath my wrath did end i was angry with my foe i told not my wrath did grow i waterd fears night morning with my tears i sunned with smiles with soft deceitful wiles grew both day night till bore apple bright my foe beheld shine he knew that was mine into my garden stole when night had veild pole morning glad i see my foe outstretched beneath tree'"
      ]
     },
     "execution_count": 6,
     "metadata": {},
     "output_type": "execute_result"
    }
   ],
   "source": [
    "blacklist = ['and', 'as', 'an', 'a', 'the', 'in', 'it']\n",
    "\n",
    "poem = \"\"\"I was angry with my friend; \n",
    "I told my wrath, my wrath did end.\n",
    "I was angry with my foe: \n",
    "I told it not, my wrath did grow. \n",
    "\n",
    "And I waterd it in fears,\n",
    "Night & morning with my tears: \n",
    "And I sunned it with smiles,\n",
    "And with soft deceitful wiles. \n",
    "\n",
    "And it grew both day and night. \n",
    "Till it bore an apple bright. \n",
    "And my foe beheld it shine,\n",
    "And he knew that it was mine. \n",
    "\n",
    "And into my garden stole, \n",
    "When the night had veild the pole; \n",
    "In the morning glad I see; \n",
    "My foe outstretched beneath the tree.\"\"\"\n",
    "\n",
    "angrypoem=poem.lower().replace(\".\",\"\").replace(\",\",\"\").replace(\";\",\"\").replace(\"&\",\"\").replace(\":\",\"\").split()\n",
    "non_blacklist=[]\n",
    "for word in angrypoem: \n",
    "    if word not in blacklist: \n",
    "        non_blacklist.append(word) \n",
    "\" \".join(non_blacklist)"
   ]
  },
  {
   "cell_type": "code",
   "execution_count": null,
   "id": "7291b301",
   "metadata": {},
   "outputs": [],
   "source": []
  }
 ],
 "metadata": {
  "kernelspec": {
   "display_name": "Python 3",
   "language": "python",
   "name": "python3"
  },
  "language_info": {
   "codemirror_mode": {
    "name": "ipython",
    "version": 3
   },
   "file_extension": ".py",
   "mimetype": "text/x-python",
   "name": "python",
   "nbconvert_exporter": "python",
   "pygments_lexer": "ipython3",
   "version": "3.9.2"
  }
 },
 "nbformat": 4,
 "nbformat_minor": 5
}
