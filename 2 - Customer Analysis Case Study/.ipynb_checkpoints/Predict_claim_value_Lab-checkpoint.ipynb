{
 "cells": [
  {
   "cell_type": "code",
   "execution_count": 1,
   "id": "97b81ee7",
   "metadata": {},
   "outputs": [],
   "source": [
    "## Running ordinary least squares  - Linear Regression.\n",
    "\n",
    "## LinearRegression fits a linear model with coefficients w = (w1, …, wp) to minimize the residual sum of squares between the observed targets in the dataset, and the targets predicted by the linear approximation.\n",
    "\n",
    "## Linear Regression Pros and Cons\n",
    "\n",
    "## Pros: Easy to interpret results, computationally inexpensive\n",
    "## Cons: Poorly models nonlinear data\n",
    "## Works with: Numeric values, nominal values, normally distributed data"
   ]
  },
  {
   "cell_type": "code",
   "execution_count": 4,
   "id": "87baf082",
   "metadata": {},
   "outputs": [],
   "source": [
    "import pandas as pd \n",
    "import numpy as np \n",
    "import matplotlib.pyplot as plt\n",
    "import seaborn as sns \n",
    "%matplotlib inline"
   ]
  },
  {
   "cell_type": "code",
   "execution_count": 5,
   "id": "76208f54",
   "metadata": {},
   "outputs": [
    {
     "name": "stdout",
     "output_type": "stream",
     "text": [
      "Available matplotlib backends: ['tk', 'gtk', 'gtk3', 'wx', 'qt4', 'qt5', 'qt', 'osx', 'nbagg', 'notebook', 'agg', 'svg', 'pdf', 'ps', 'inline', 'ipympl', 'widget']\n"
     ]
    }
   ],
   "source": [
    "%matplotlib --list"
   ]
  },
  {
   "cell_type": "code",
   "execution_count": 6,
   "id": "b6917ef0",
   "metadata": {},
   "outputs": [],
   "source": [
    "import matplotlib as lm"
   ]
  },
  {
   "cell_type": "code",
   "execution_count": 7,
   "id": "f5b8bb37",
   "metadata": {},
   "outputs": [],
   "source": [
    "##OLS model\n",
    "from sklearn import linear_model"
   ]
  },
  {
   "cell_type": "code",
   "execution_count": 8,
   "id": "50849661",
   "metadata": {},
   "outputs": [],
   "source": [
    "from sklearn.metrics import mean_squared_error, r2_score"
   ]
  },
  {
   "cell_type": "code",
   "execution_count": 9,
   "id": "d0668ce2",
   "metadata": {},
   "outputs": [],
   "source": [
    "data=pd.read_csv('clean_marketing.csv')"
   ]
  },
  {
   "cell_type": "code",
   "execution_count": 10,
   "id": "157bcbfb",
   "metadata": {},
   "outputs": [
    {
     "data": {
      "text/html": [
       "<div>\n",
       "<style scoped>\n",
       "    .dataframe tbody tr th:only-of-type {\n",
       "        vertical-align: middle;\n",
       "    }\n",
       "\n",
       "    .dataframe tbody tr th {\n",
       "        vertical-align: top;\n",
       "    }\n",
       "\n",
       "    .dataframe thead th {\n",
       "        text-align: right;\n",
       "    }\n",
       "</style>\n",
       "<table border=\"1\" class=\"dataframe\">\n",
       "  <thead>\n",
       "    <tr style=\"text-align: right;\">\n",
       "      <th></th>\n",
       "      <th>Unnamed: 0</th>\n",
       "      <th>customer</th>\n",
       "      <th>state</th>\n",
       "      <th>customer_lifetime_value</th>\n",
       "      <th>response</th>\n",
       "      <th>coverage</th>\n",
       "      <th>education</th>\n",
       "      <th>effective_to_date</th>\n",
       "      <th>employmentstatus</th>\n",
       "      <th>gender</th>\n",
       "      <th>...</th>\n",
       "      <th>number_of_open_complaints</th>\n",
       "      <th>number_of_policies</th>\n",
       "      <th>policy_type</th>\n",
       "      <th>policy</th>\n",
       "      <th>renew_offer_type</th>\n",
       "      <th>sales_channel</th>\n",
       "      <th>total_claim_amount</th>\n",
       "      <th>vehicle_class</th>\n",
       "      <th>vehicle_size</th>\n",
       "      <th>effective_to_date_month</th>\n",
       "    </tr>\n",
       "  </thead>\n",
       "  <tbody>\n",
       "    <tr>\n",
       "      <th>0</th>\n",
       "      <td>0</td>\n",
       "      <td>BU79786</td>\n",
       "      <td>Washington</td>\n",
       "      <td>2763.519279</td>\n",
       "      <td>No</td>\n",
       "      <td>Basic</td>\n",
       "      <td>Bachelor</td>\n",
       "      <td>2011-02-24</td>\n",
       "      <td>Employed</td>\n",
       "      <td>F</td>\n",
       "      <td>...</td>\n",
       "      <td>0</td>\n",
       "      <td>1</td>\n",
       "      <td>Corporate Auto</td>\n",
       "      <td>Corporate L3</td>\n",
       "      <td>Offer1</td>\n",
       "      <td>Agent</td>\n",
       "      <td>384.811147</td>\n",
       "      <td>Two-Door Car</td>\n",
       "      <td>Medsize</td>\n",
       "      <td>2</td>\n",
       "    </tr>\n",
       "    <tr>\n",
       "      <th>1</th>\n",
       "      <td>1</td>\n",
       "      <td>QZ44356</td>\n",
       "      <td>Arizona</td>\n",
       "      <td>6979.535903</td>\n",
       "      <td>No</td>\n",
       "      <td>Extended</td>\n",
       "      <td>Bachelor</td>\n",
       "      <td>2011-01-31</td>\n",
       "      <td>Unemployed</td>\n",
       "      <td>F</td>\n",
       "      <td>...</td>\n",
       "      <td>0</td>\n",
       "      <td>8</td>\n",
       "      <td>Personal Auto</td>\n",
       "      <td>Personal L3</td>\n",
       "      <td>Offer3</td>\n",
       "      <td>Agent</td>\n",
       "      <td>1131.464935</td>\n",
       "      <td>Four-Door Car</td>\n",
       "      <td>Medsize</td>\n",
       "      <td>1</td>\n",
       "    </tr>\n",
       "    <tr>\n",
       "      <th>2</th>\n",
       "      <td>2</td>\n",
       "      <td>AI49188</td>\n",
       "      <td>Nevada</td>\n",
       "      <td>12887.431650</td>\n",
       "      <td>No</td>\n",
       "      <td>Premium</td>\n",
       "      <td>Bachelor</td>\n",
       "      <td>2011-02-19</td>\n",
       "      <td>Employed</td>\n",
       "      <td>F</td>\n",
       "      <td>...</td>\n",
       "      <td>0</td>\n",
       "      <td>2</td>\n",
       "      <td>Personal Auto</td>\n",
       "      <td>Personal L3</td>\n",
       "      <td>Offer1</td>\n",
       "      <td>Agent</td>\n",
       "      <td>566.472247</td>\n",
       "      <td>Two-Door Car</td>\n",
       "      <td>Medsize</td>\n",
       "      <td>2</td>\n",
       "    </tr>\n",
       "    <tr>\n",
       "      <th>3</th>\n",
       "      <td>3</td>\n",
       "      <td>WW63253</td>\n",
       "      <td>California</td>\n",
       "      <td>7645.861827</td>\n",
       "      <td>No</td>\n",
       "      <td>Basic</td>\n",
       "      <td>Bachelor</td>\n",
       "      <td>2011-01-20</td>\n",
       "      <td>Unemployed</td>\n",
       "      <td>M</td>\n",
       "      <td>...</td>\n",
       "      <td>0</td>\n",
       "      <td>7</td>\n",
       "      <td>Corporate Auto</td>\n",
       "      <td>Corporate L2</td>\n",
       "      <td>Offer1</td>\n",
       "      <td>Call Center</td>\n",
       "      <td>529.881344</td>\n",
       "      <td>SUV</td>\n",
       "      <td>Medsize</td>\n",
       "      <td>1</td>\n",
       "    </tr>\n",
       "    <tr>\n",
       "      <th>4</th>\n",
       "      <td>4</td>\n",
       "      <td>HB64268</td>\n",
       "      <td>Washington</td>\n",
       "      <td>2813.692575</td>\n",
       "      <td>No</td>\n",
       "      <td>Basic</td>\n",
       "      <td>Bachelor</td>\n",
       "      <td>2011-02-03</td>\n",
       "      <td>Employed</td>\n",
       "      <td>M</td>\n",
       "      <td>...</td>\n",
       "      <td>0</td>\n",
       "      <td>1</td>\n",
       "      <td>Personal Auto</td>\n",
       "      <td>Personal L1</td>\n",
       "      <td>Offer1</td>\n",
       "      <td>Agent</td>\n",
       "      <td>138.130879</td>\n",
       "      <td>Four-Door Car</td>\n",
       "      <td>Medsize</td>\n",
       "      <td>2</td>\n",
       "    </tr>\n",
       "  </tbody>\n",
       "</table>\n",
       "<p>5 rows × 26 columns</p>\n",
       "</div>"
      ],
      "text/plain": [
       "   Unnamed: 0 customer       state  customer_lifetime_value response  \\\n",
       "0           0  BU79786  Washington              2763.519279       No   \n",
       "1           1  QZ44356     Arizona              6979.535903       No   \n",
       "2           2  AI49188      Nevada             12887.431650       No   \n",
       "3           3  WW63253  California              7645.861827       No   \n",
       "4           4  HB64268  Washington              2813.692575       No   \n",
       "\n",
       "   coverage education effective_to_date employmentstatus gender  ...  \\\n",
       "0     Basic  Bachelor        2011-02-24         Employed      F  ...   \n",
       "1  Extended  Bachelor        2011-01-31       Unemployed      F  ...   \n",
       "2   Premium  Bachelor        2011-02-19         Employed      F  ...   \n",
       "3     Basic  Bachelor        2011-01-20       Unemployed      M  ...   \n",
       "4     Basic  Bachelor        2011-02-03         Employed      M  ...   \n",
       "\n",
       "   number_of_open_complaints number_of_policies     policy_type        policy  \\\n",
       "0                          0                  1  Corporate Auto  Corporate L3   \n",
       "1                          0                  8   Personal Auto   Personal L3   \n",
       "2                          0                  2   Personal Auto   Personal L3   \n",
       "3                          0                  7  Corporate Auto  Corporate L2   \n",
       "4                          0                  1   Personal Auto   Personal L1   \n",
       "\n",
       "   renew_offer_type  sales_channel  total_claim_amount  vehicle_class  \\\n",
       "0            Offer1          Agent          384.811147   Two-Door Car   \n",
       "1            Offer3          Agent         1131.464935  Four-Door Car   \n",
       "2            Offer1          Agent          566.472247   Two-Door Car   \n",
       "3            Offer1    Call Center          529.881344            SUV   \n",
       "4            Offer1          Agent          138.130879  Four-Door Car   \n",
       "\n",
       "  vehicle_size effective_to_date_month  \n",
       "0      Medsize                       2  \n",
       "1      Medsize                       1  \n",
       "2      Medsize                       2  \n",
       "3      Medsize                       1  \n",
       "4      Medsize                       2  \n",
       "\n",
       "[5 rows x 26 columns]"
      ]
     },
     "execution_count": 10,
     "metadata": {},
     "output_type": "execute_result"
    }
   ],
   "source": [
    "data.head()"
   ]
  },
  {
   "cell_type": "code",
   "execution_count": null,
   "id": "b60fde9a",
   "metadata": {},
   "outputs": [],
   "source": [
    "data.info()"
   ]
  },
  {
   "cell_type": "code",
   "execution_count": 11,
   "id": "6f00149a",
   "metadata": {},
   "outputs": [],
   "source": [
    "## split categorical Features and Numerical Features\n",
    "data_num=data.select_dtypes(include=np.number)"
   ]
  },
  {
   "cell_type": "code",
   "execution_count": 12,
   "id": "730da822",
   "metadata": {},
   "outputs": [
    {
     "data": {
      "text/html": [
       "<div>\n",
       "<style scoped>\n",
       "    .dataframe tbody tr th:only-of-type {\n",
       "        vertical-align: middle;\n",
       "    }\n",
       "\n",
       "    .dataframe tbody tr th {\n",
       "        vertical-align: top;\n",
       "    }\n",
       "\n",
       "    .dataframe thead th {\n",
       "        text-align: right;\n",
       "    }\n",
       "</style>\n",
       "<table border=\"1\" class=\"dataframe\">\n",
       "  <thead>\n",
       "    <tr style=\"text-align: right;\">\n",
       "      <th></th>\n",
       "      <th>Unnamed: 0</th>\n",
       "      <th>customer_lifetime_value</th>\n",
       "      <th>income</th>\n",
       "      <th>monthly_premium_auto</th>\n",
       "      <th>months_since_last_claim</th>\n",
       "      <th>months_since_policy_inception</th>\n",
       "      <th>number_of_open_complaints</th>\n",
       "      <th>number_of_policies</th>\n",
       "      <th>total_claim_amount</th>\n",
       "      <th>effective_to_date_month</th>\n",
       "    </tr>\n",
       "  </thead>\n",
       "  <tbody>\n",
       "    <tr>\n",
       "      <th>0</th>\n",
       "      <td>0</td>\n",
       "      <td>2763.519279</td>\n",
       "      <td>56274</td>\n",
       "      <td>69</td>\n",
       "      <td>32</td>\n",
       "      <td>5</td>\n",
       "      <td>0</td>\n",
       "      <td>1</td>\n",
       "      <td>384.811147</td>\n",
       "      <td>2</td>\n",
       "    </tr>\n",
       "    <tr>\n",
       "      <th>1</th>\n",
       "      <td>1</td>\n",
       "      <td>6979.535903</td>\n",
       "      <td>0</td>\n",
       "      <td>94</td>\n",
       "      <td>13</td>\n",
       "      <td>42</td>\n",
       "      <td>0</td>\n",
       "      <td>8</td>\n",
       "      <td>1131.464935</td>\n",
       "      <td>1</td>\n",
       "    </tr>\n",
       "    <tr>\n",
       "      <th>2</th>\n",
       "      <td>2</td>\n",
       "      <td>12887.431650</td>\n",
       "      <td>48767</td>\n",
       "      <td>108</td>\n",
       "      <td>18</td>\n",
       "      <td>38</td>\n",
       "      <td>0</td>\n",
       "      <td>2</td>\n",
       "      <td>566.472247</td>\n",
       "      <td>2</td>\n",
       "    </tr>\n",
       "    <tr>\n",
       "      <th>3</th>\n",
       "      <td>3</td>\n",
       "      <td>7645.861827</td>\n",
       "      <td>0</td>\n",
       "      <td>106</td>\n",
       "      <td>18</td>\n",
       "      <td>65</td>\n",
       "      <td>0</td>\n",
       "      <td>7</td>\n",
       "      <td>529.881344</td>\n",
       "      <td>1</td>\n",
       "    </tr>\n",
       "    <tr>\n",
       "      <th>4</th>\n",
       "      <td>4</td>\n",
       "      <td>2813.692575</td>\n",
       "      <td>43836</td>\n",
       "      <td>73</td>\n",
       "      <td>12</td>\n",
       "      <td>44</td>\n",
       "      <td>0</td>\n",
       "      <td>1</td>\n",
       "      <td>138.130879</td>\n",
       "      <td>2</td>\n",
       "    </tr>\n",
       "    <tr>\n",
       "      <th>5</th>\n",
       "      <td>5</td>\n",
       "      <td>8256.297800</td>\n",
       "      <td>62902</td>\n",
       "      <td>69</td>\n",
       "      <td>14</td>\n",
       "      <td>94</td>\n",
       "      <td>0</td>\n",
       "      <td>2</td>\n",
       "      <td>159.383042</td>\n",
       "      <td>1</td>\n",
       "    </tr>\n",
       "    <tr>\n",
       "      <th>6</th>\n",
       "      <td>6</td>\n",
       "      <td>5380.898636</td>\n",
       "      <td>55350</td>\n",
       "      <td>67</td>\n",
       "      <td>0</td>\n",
       "      <td>13</td>\n",
       "      <td>0</td>\n",
       "      <td>9</td>\n",
       "      <td>321.600000</td>\n",
       "      <td>2</td>\n",
       "    </tr>\n",
       "    <tr>\n",
       "      <th>7</th>\n",
       "      <td>7</td>\n",
       "      <td>7216.100311</td>\n",
       "      <td>0</td>\n",
       "      <td>101</td>\n",
       "      <td>0</td>\n",
       "      <td>68</td>\n",
       "      <td>0</td>\n",
       "      <td>4</td>\n",
       "      <td>363.029680</td>\n",
       "      <td>1</td>\n",
       "    </tr>\n",
       "    <tr>\n",
       "      <th>8</th>\n",
       "      <td>8</td>\n",
       "      <td>24127.504020</td>\n",
       "      <td>14072</td>\n",
       "      <td>71</td>\n",
       "      <td>13</td>\n",
       "      <td>3</td>\n",
       "      <td>0</td>\n",
       "      <td>2</td>\n",
       "      <td>511.200000</td>\n",
       "      <td>1</td>\n",
       "    </tr>\n",
       "    <tr>\n",
       "      <th>9</th>\n",
       "      <td>9</td>\n",
       "      <td>7388.178085</td>\n",
       "      <td>28812</td>\n",
       "      <td>93</td>\n",
       "      <td>17</td>\n",
       "      <td>7</td>\n",
       "      <td>0</td>\n",
       "      <td>8</td>\n",
       "      <td>425.527834</td>\n",
       "      <td>2</td>\n",
       "    </tr>\n",
       "    <tr>\n",
       "      <th>10</th>\n",
       "      <td>10</td>\n",
       "      <td>4738.992022</td>\n",
       "      <td>0</td>\n",
       "      <td>67</td>\n",
       "      <td>23</td>\n",
       "      <td>5</td>\n",
       "      <td>0</td>\n",
       "      <td>3</td>\n",
       "      <td>482.400000</td>\n",
       "      <td>2</td>\n",
       "    </tr>\n",
       "    <tr>\n",
       "      <th>11</th>\n",
       "      <td>11</td>\n",
       "      <td>8197.197078</td>\n",
       "      <td>0</td>\n",
       "      <td>110</td>\n",
       "      <td>27</td>\n",
       "      <td>87</td>\n",
       "      <td>0</td>\n",
       "      <td>3</td>\n",
       "      <td>528.000000</td>\n",
       "      <td>1</td>\n",
       "    </tr>\n",
       "    <tr>\n",
       "      <th>12</th>\n",
       "      <td>12</td>\n",
       "      <td>8798.797003</td>\n",
       "      <td>77026</td>\n",
       "      <td>110</td>\n",
       "      <td>9</td>\n",
       "      <td>82</td>\n",
       "      <td>2</td>\n",
       "      <td>3</td>\n",
       "      <td>472.029737</td>\n",
       "      <td>2</td>\n",
       "    </tr>\n",
       "    <tr>\n",
       "      <th>13</th>\n",
       "      <td>13</td>\n",
       "      <td>8819.018934</td>\n",
       "      <td>99845</td>\n",
       "      <td>110</td>\n",
       "      <td>23</td>\n",
       "      <td>25</td>\n",
       "      <td>1</td>\n",
       "      <td>8</td>\n",
       "      <td>528.000000</td>\n",
       "      <td>1</td>\n",
       "    </tr>\n",
       "    <tr>\n",
       "      <th>14</th>\n",
       "      <td>14</td>\n",
       "      <td>5384.431665</td>\n",
       "      <td>83689</td>\n",
       "      <td>70</td>\n",
       "      <td>21</td>\n",
       "      <td>10</td>\n",
       "      <td>2</td>\n",
       "      <td>8</td>\n",
       "      <td>307.139132</td>\n",
       "      <td>1</td>\n",
       "    </tr>\n",
       "    <tr>\n",
       "      <th>15</th>\n",
       "      <td>15</td>\n",
       "      <td>7463.139377</td>\n",
       "      <td>24599</td>\n",
       "      <td>64</td>\n",
       "      <td>12</td>\n",
       "      <td>50</td>\n",
       "      <td>1</td>\n",
       "      <td>2</td>\n",
       "      <td>42.920271</td>\n",
       "      <td>1</td>\n",
       "    </tr>\n",
       "    <tr>\n",
       "      <th>16</th>\n",
       "      <td>16</td>\n",
       "      <td>2566.867823</td>\n",
       "      <td>25049</td>\n",
       "      <td>67</td>\n",
       "      <td>14</td>\n",
       "      <td>7</td>\n",
       "      <td>0</td>\n",
       "      <td>1</td>\n",
       "      <td>454.245098</td>\n",
       "      <td>2</td>\n",
       "    </tr>\n",
       "    <tr>\n",
       "      <th>17</th>\n",
       "      <td>17</td>\n",
       "      <td>3945.241604</td>\n",
       "      <td>28855</td>\n",
       "      <td>101</td>\n",
       "      <td>12</td>\n",
       "      <td>59</td>\n",
       "      <td>0</td>\n",
       "      <td>1</td>\n",
       "      <td>647.442031</td>\n",
       "      <td>1</td>\n",
       "    </tr>\n",
       "    <tr>\n",
       "      <th>18</th>\n",
       "      <td>18</td>\n",
       "      <td>5710.333115</td>\n",
       "      <td>51148</td>\n",
       "      <td>72</td>\n",
       "      <td>9</td>\n",
       "      <td>1</td>\n",
       "      <td>0</td>\n",
       "      <td>7</td>\n",
       "      <td>308.981664</td>\n",
       "      <td>2</td>\n",
       "    </tr>\n",
       "    <tr>\n",
       "      <th>19</th>\n",
       "      <td>19</td>\n",
       "      <td>8162.617053</td>\n",
       "      <td>66140</td>\n",
       "      <td>101</td>\n",
       "      <td>11</td>\n",
       "      <td>21</td>\n",
       "      <td>0</td>\n",
       "      <td>3</td>\n",
       "      <td>484.800000</td>\n",
       "      <td>1</td>\n",
       "    </tr>\n",
       "    <tr>\n",
       "      <th>20</th>\n",
       "      <td>20</td>\n",
       "      <td>2872.051273</td>\n",
       "      <td>57749</td>\n",
       "      <td>74</td>\n",
       "      <td>31</td>\n",
       "      <td>21</td>\n",
       "      <td>0</td>\n",
       "      <td>1</td>\n",
       "      <td>355.200000</td>\n",
       "      <td>2</td>\n",
       "    </tr>\n",
       "    <tr>\n",
       "      <th>21</th>\n",
       "      <td>21</td>\n",
       "      <td>3041.791561</td>\n",
       "      <td>13789</td>\n",
       "      <td>79</td>\n",
       "      <td>8</td>\n",
       "      <td>49</td>\n",
       "      <td>0</td>\n",
       "      <td>1</td>\n",
       "      <td>379.200000</td>\n",
       "      <td>1</td>\n",
       "    </tr>\n",
       "    <tr>\n",
       "      <th>22</th>\n",
       "      <td>22</td>\n",
       "      <td>24127.504020</td>\n",
       "      <td>14072</td>\n",
       "      <td>71</td>\n",
       "      <td>13</td>\n",
       "      <td>3</td>\n",
       "      <td>0</td>\n",
       "      <td>2</td>\n",
       "      <td>511.200000</td>\n",
       "      <td>1</td>\n",
       "    </tr>\n",
       "    <tr>\n",
       "      <th>23</th>\n",
       "      <td>23</td>\n",
       "      <td>2450.190996</td>\n",
       "      <td>0</td>\n",
       "      <td>73</td>\n",
       "      <td>4</td>\n",
       "      <td>44</td>\n",
       "      <td>3</td>\n",
       "      <td>1</td>\n",
       "      <td>554.376763</td>\n",
       "      <td>2</td>\n",
       "    </tr>\n",
       "    <tr>\n",
       "      <th>24</th>\n",
       "      <td>24</td>\n",
       "      <td>2392.107890</td>\n",
       "      <td>17870</td>\n",
       "      <td>61</td>\n",
       "      <td>30</td>\n",
       "      <td>91</td>\n",
       "      <td>0</td>\n",
       "      <td>1</td>\n",
       "      <td>439.200000</td>\n",
       "      <td>2</td>\n",
       "    </tr>\n",
       "    <tr>\n",
       "      <th>25</th>\n",
       "      <td>25</td>\n",
       "      <td>5802.065978</td>\n",
       "      <td>97541</td>\n",
       "      <td>72</td>\n",
       "      <td>22</td>\n",
       "      <td>1</td>\n",
       "      <td>0</td>\n",
       "      <td>3</td>\n",
       "      <td>389.185006</td>\n",
       "      <td>1</td>\n",
       "    </tr>\n",
       "    <tr>\n",
       "      <th>26</th>\n",
       "      <td>26</td>\n",
       "      <td>3946.372085</td>\n",
       "      <td>0</td>\n",
       "      <td>111</td>\n",
       "      <td>15</td>\n",
       "      <td>47</td>\n",
       "      <td>0</td>\n",
       "      <td>1</td>\n",
       "      <td>799.200000</td>\n",
       "      <td>2</td>\n",
       "    </tr>\n",
       "    <tr>\n",
       "      <th>27</th>\n",
       "      <td>27</td>\n",
       "      <td>5346.916576</td>\n",
       "      <td>10511</td>\n",
       "      <td>139</td>\n",
       "      <td>33</td>\n",
       "      <td>64</td>\n",
       "      <td>0</td>\n",
       "      <td>1</td>\n",
       "      <td>516.237951</td>\n",
       "      <td>2</td>\n",
       "    </tr>\n",
       "    <tr>\n",
       "      <th>28</th>\n",
       "      <td>28</td>\n",
       "      <td>12902.560140</td>\n",
       "      <td>86584</td>\n",
       "      <td>111</td>\n",
       "      <td>33</td>\n",
       "      <td>54</td>\n",
       "      <td>2</td>\n",
       "      <td>2</td>\n",
       "      <td>532.800000</td>\n",
       "      <td>2</td>\n",
       "    </tr>\n",
       "    <tr>\n",
       "      <th>29</th>\n",
       "      <td>29</td>\n",
       "      <td>3235.360468</td>\n",
       "      <td>75690</td>\n",
       "      <td>80</td>\n",
       "      <td>17</td>\n",
       "      <td>44</td>\n",
       "      <td>1</td>\n",
       "      <td>1</td>\n",
       "      <td>384.000000</td>\n",
       "      <td>2</td>\n",
       "    </tr>\n",
       "  </tbody>\n",
       "</table>\n",
       "</div>"
      ],
      "text/plain": [
       "    Unnamed: 0  customer_lifetime_value  income  monthly_premium_auto  \\\n",
       "0            0              2763.519279   56274                    69   \n",
       "1            1              6979.535903       0                    94   \n",
       "2            2             12887.431650   48767                   108   \n",
       "3            3              7645.861827       0                   106   \n",
       "4            4              2813.692575   43836                    73   \n",
       "5            5              8256.297800   62902                    69   \n",
       "6            6              5380.898636   55350                    67   \n",
       "7            7              7216.100311       0                   101   \n",
       "8            8             24127.504020   14072                    71   \n",
       "9            9              7388.178085   28812                    93   \n",
       "10          10              4738.992022       0                    67   \n",
       "11          11              8197.197078       0                   110   \n",
       "12          12              8798.797003   77026                   110   \n",
       "13          13              8819.018934   99845                   110   \n",
       "14          14              5384.431665   83689                    70   \n",
       "15          15              7463.139377   24599                    64   \n",
       "16          16              2566.867823   25049                    67   \n",
       "17          17              3945.241604   28855                   101   \n",
       "18          18              5710.333115   51148                    72   \n",
       "19          19              8162.617053   66140                   101   \n",
       "20          20              2872.051273   57749                    74   \n",
       "21          21              3041.791561   13789                    79   \n",
       "22          22             24127.504020   14072                    71   \n",
       "23          23              2450.190996       0                    73   \n",
       "24          24              2392.107890   17870                    61   \n",
       "25          25              5802.065978   97541                    72   \n",
       "26          26              3946.372085       0                   111   \n",
       "27          27              5346.916576   10511                   139   \n",
       "28          28             12902.560140   86584                   111   \n",
       "29          29              3235.360468   75690                    80   \n",
       "\n",
       "    months_since_last_claim  months_since_policy_inception  \\\n",
       "0                        32                              5   \n",
       "1                        13                             42   \n",
       "2                        18                             38   \n",
       "3                        18                             65   \n",
       "4                        12                             44   \n",
       "5                        14                             94   \n",
       "6                         0                             13   \n",
       "7                         0                             68   \n",
       "8                        13                              3   \n",
       "9                        17                              7   \n",
       "10                       23                              5   \n",
       "11                       27                             87   \n",
       "12                        9                             82   \n",
       "13                       23                             25   \n",
       "14                       21                             10   \n",
       "15                       12                             50   \n",
       "16                       14                              7   \n",
       "17                       12                             59   \n",
       "18                        9                              1   \n",
       "19                       11                             21   \n",
       "20                       31                             21   \n",
       "21                        8                             49   \n",
       "22                       13                              3   \n",
       "23                        4                             44   \n",
       "24                       30                             91   \n",
       "25                       22                              1   \n",
       "26                       15                             47   \n",
       "27                       33                             64   \n",
       "28                       33                             54   \n",
       "29                       17                             44   \n",
       "\n",
       "    number_of_open_complaints  number_of_policies  total_claim_amount  \\\n",
       "0                           0                   1          384.811147   \n",
       "1                           0                   8         1131.464935   \n",
       "2                           0                   2          566.472247   \n",
       "3                           0                   7          529.881344   \n",
       "4                           0                   1          138.130879   \n",
       "5                           0                   2          159.383042   \n",
       "6                           0                   9          321.600000   \n",
       "7                           0                   4          363.029680   \n",
       "8                           0                   2          511.200000   \n",
       "9                           0                   8          425.527834   \n",
       "10                          0                   3          482.400000   \n",
       "11                          0                   3          528.000000   \n",
       "12                          2                   3          472.029737   \n",
       "13                          1                   8          528.000000   \n",
       "14                          2                   8          307.139132   \n",
       "15                          1                   2           42.920271   \n",
       "16                          0                   1          454.245098   \n",
       "17                          0                   1          647.442031   \n",
       "18                          0                   7          308.981664   \n",
       "19                          0                   3          484.800000   \n",
       "20                          0                   1          355.200000   \n",
       "21                          0                   1          379.200000   \n",
       "22                          0                   2          511.200000   \n",
       "23                          3                   1          554.376763   \n",
       "24                          0                   1          439.200000   \n",
       "25                          0                   3          389.185006   \n",
       "26                          0                   1          799.200000   \n",
       "27                          0                   1          516.237951   \n",
       "28                          2                   2          532.800000   \n",
       "29                          1                   1          384.000000   \n",
       "\n",
       "    effective_to_date_month  \n",
       "0                         2  \n",
       "1                         1  \n",
       "2                         2  \n",
       "3                         1  \n",
       "4                         2  \n",
       "5                         1  \n",
       "6                         2  \n",
       "7                         1  \n",
       "8                         1  \n",
       "9                         2  \n",
       "10                        2  \n",
       "11                        1  \n",
       "12                        2  \n",
       "13                        1  \n",
       "14                        1  \n",
       "15                        1  \n",
       "16                        2  \n",
       "17                        1  \n",
       "18                        2  \n",
       "19                        1  \n",
       "20                        2  \n",
       "21                        1  \n",
       "22                        1  \n",
       "23                        2  \n",
       "24                        2  \n",
       "25                        1  \n",
       "26                        2  \n",
       "27                        2  \n",
       "28                        2  \n",
       "29                        2  "
      ]
     },
     "execution_count": 12,
     "metadata": {},
     "output_type": "execute_result"
    }
   ],
   "source": [
    "data_num.head(30)"
   ]
  },
  {
   "cell_type": "code",
   "execution_count": 13,
   "id": "889939ae",
   "metadata": {},
   "outputs": [],
   "source": [
    "## split categorical Features and Numerical Features.\n",
    "\n",
    "\n",
    "#define the y predictor variable \n",
    "y=data['total_claim_amount']"
   ]
  },
  {
   "cell_type": "code",
   "execution_count": 14,
   "id": "e8560826",
   "metadata": {},
   "outputs": [],
   "source": [
    "#drop y from x \n",
    "data=data.drop(['total_claim_amount'],axis=1)"
   ]
  },
  {
   "cell_type": "code",
   "execution_count": 15,
   "id": "16a16520",
   "metadata": {},
   "outputs": [],
   "source": [
    "lm = linear_model.LinearRegression()\n",
    "# line of best fit"
   ]
  },
  {
   "cell_type": "code",
   "execution_count": 16,
   "id": "cc020339",
   "metadata": {},
   "outputs": [],
   "source": [
    "X_num = data.select_dtypes(include = np.number)"
   ]
  },
  {
   "cell_type": "code",
   "execution_count": 17,
   "id": "3fd606c4",
   "metadata": {},
   "outputs": [],
   "source": [
    "X_cat = data.select_dtypes(include = object)"
   ]
  },
  {
   "cell_type": "code",
   "execution_count": 18,
   "id": "f4bb4c20",
   "metadata": {
    "scrolled": true
   },
   "outputs": [
    {
     "data": {
      "image/png": "[encoded data removed]",
      "text/plain": [
       "<Figure size 1080x1440 with 9 Axes>"
      ]
     },
     "metadata": {
      "needs_background": "light"
     },
     "output_type": "display_data"
    }
   ],
   "source": [
    "### Explore visually both sets of features, to identify next steps\n",
    "\n",
    "X_num.hist(figsize = (15,20));"
   ]
  },
  {
   "cell_type": "code",
   "execution_count": 19,
   "id": "ec580ede",
   "metadata": {},
   "outputs": [
    {
     "data": {
      "image/png": "[encoded data removed]",
      "text/plain": [
       "<Figure size 720x576 with 2 Axes>"
      ]
     },
     "metadata": {
      "needs_background": "light"
     },
     "output_type": "display_data"
    }
   ],
   "source": [
    "### Look at potential multicollinearity using a correlation matrix or other approach.\n",
    "\n",
    "## Check for multicollinearity\n",
    "correlations_matrix=data.corr()\n",
    "mask=np.zeros_like(correlations_matrix)\n",
    "mask[np.triu_indices_from(mask)]=True\n",
    "fig,ax= plt.subplots(figsize=(10,8))\n",
    "ax = sns.heatmap(correlations_matrix, mask=mask, annot=True, cmap='seismic', center=0)\n",
    "plt.show()"
   ]
  },
  {
   "cell_type": "code",
   "execution_count": 26,
   "id": "6e6e7292",
   "metadata": {},
   "outputs": [],
   "source": [
    "X=data_num.drop(['total_claim_amount'],axis=1)"
   ]
  },
  {
   "cell_type": "code",
   "execution_count": 28,
   "id": "8770a19d",
   "metadata": {},
   "outputs": [],
   "source": [
    "# fit the model to our data (only numerical data)\n",
    "line=lm.fit(X,y)"
   ]
  },
  {
   "cell_type": "code",
   "execution_count": null,
   "id": "24083319",
   "metadata": {},
   "outputs": [],
   "source": [
    "X=data_num.drop(['target_d'],axis=1)"
   ]
  },
  {
   "cell_type": "code",
   "execution_count": 29,
   "id": "522f2739",
   "metadata": {},
   "outputs": [
    {
     "data": {
      "text/plain": [
       "0.5188232701358604"
      ]
     },
     "execution_count": 29,
     "metadata": {},
     "output_type": "execute_result"
    }
   ],
   "source": [
    "# calculate a score - R2 score \n",
    "lm.score(X,y)"
   ]
  },
  {
   "cell_type": "code",
   "execution_count": null,
   "id": "50d75e5d",
   "metadata": {},
   "outputs": [],
   "source": [
    "### the model explains 51% of the variation\n",
    "### (will try to fix it a bit to make it more accurate)"
   ]
  },
  {
   "cell_type": "code",
   "execution_count": 30,
   "id": "f16e7594",
   "metadata": {},
   "outputs": [
    {
     "data": {
      "text/plain": [
       "array([242.3846191 , 559.48034308, 467.50841438, ..., 518.42714229,\n",
       "       509.60521733, 478.77124695])"
      ]
     },
     "execution_count": 30,
     "metadata": {},
     "output_type": "execute_result"
    }
   ],
   "source": [
    "#get predictions\n",
    "\n",
    "predictions  = lm.predict(X)\n",
    "predictions"
   ]
  },
  {
   "cell_type": "code",
   "execution_count": 32,
   "id": "6d5c1086",
   "metadata": {},
   "outputs": [
    {
     "data": {
      "text/plain": [
       "40602.204533140466"
      ]
     },
     "execution_count": 32,
     "metadata": {},
     "output_type": "execute_result"
    }
   ],
   "source": [
    "mean_squared_error(y, predictions)"
   ]
  },
  {
   "cell_type": "code",
   "execution_count": 33,
   "id": "5bec50fb",
   "metadata": {},
   "outputs": [
    {
     "data": {
      "text/plain": [
       "66.2424356270609"
      ]
     },
     "execution_count": 33,
     "metadata": {},
     "output_type": "execute_result"
    }
   ],
   "source": [
    "lm.intercept_"
   ]
  },
  {
   "cell_type": "code",
   "execution_count": null,
   "id": "ad9f3e02",
   "metadata": {},
   "outputs": [],
   "source": [
    "### the lowest claim is $66"
   ]
  },
  {
   "cell_type": "code",
   "execution_count": 35,
   "id": "8ded6975",
   "metadata": {},
   "outputs": [
    {
     "data": {
      "text/plain": [
       "0.5188232701358604"
      ]
     },
     "execution_count": 35,
     "metadata": {},
     "output_type": "execute_result"
    }
   ],
   "source": [
    "r2_score(y, predictions)"
   ]
  },
  {
   "cell_type": "code",
   "execution_count": null,
   "id": "24901e32",
   "metadata": {},
   "outputs": [],
   "source": [
    "### the model so far explains 51% of the variation (r-squared)"
   ]
  },
  {
   "cell_type": "code",
   "execution_count": 39,
   "id": "93784dd1",
   "metadata": {},
   "outputs": [],
   "source": [
    "# prepare the model \n",
    "# Split the data into train and test, randomly, as a %, using\n",
    "from sklearn.model_selection import train_test_split"
   ]
  },
  {
   "cell_type": "code",
   "execution_count": 40,
   "id": "abbca17e",
   "metadata": {},
   "outputs": [],
   "source": [
    "X_train, X_test, y_train, y_test = train_test_split(X,y, test_size=0.3, random_state=10)"
   ]
  },
  {
   "cell_type": "code",
   "execution_count": 41,
   "id": "6cfee198",
   "metadata": {},
   "outputs": [
    {
     "data": {
      "text/plain": [
       "0.50963348851396"
      ]
     },
     "execution_count": 41,
     "metadata": {},
     "output_type": "execute_result"
    }
   ],
   "source": [
    "# apply the model \n",
    "# Split the data into train and test, randomly, as a %, using\n",
    "lm=linear_model.LinearRegression()\n",
    "model=lm.fit(X_train,y_train) # teach the model to find the line of best fit \n",
    "predictions=lm.predict(X_test) # run predictions based on X_test (we cannot see y_test)\n",
    "r2_score(y_test, predictions)#compare y_test to predictions "
   ]
  },
  {
   "cell_type": "code",
   "execution_count": null,
   "id": "78a0a513",
   "metadata": {},
   "outputs": [],
   "source": [
    "### r-squared slightly lower"
   ]
  },
  {
   "cell_type": "code",
   "execution_count": 42,
   "id": "f8a6d145",
   "metadata": {},
   "outputs": [
    {
     "data": {
      "text/plain": [
       "array([183.46876056, 455.51702018, 692.23376058, ..., 504.57114123,\n",
       "       708.57275385, 317.44548765])"
      ]
     },
     "execution_count": 42,
     "metadata": {},
     "output_type": "execute_result"
    }
   ],
   "source": [
    "predictions"
   ]
  },
  {
   "cell_type": "code",
   "execution_count": 43,
   "id": "7e14b43b",
   "metadata": {},
   "outputs": [
    {
     "data": {
      "text/plain": [
       "(2741, 9)"
      ]
     },
     "execution_count": 43,
     "metadata": {},
     "output_type": "execute_result"
    }
   ],
   "source": [
    "X_test.shape"
   ]
  },
  {
   "cell_type": "code",
   "execution_count": 44,
   "id": "66694431",
   "metadata": {},
   "outputs": [
    {
     "data": {
      "text/plain": [
       "(2741,)"
      ]
     },
     "execution_count": 44,
     "metadata": {},
     "output_type": "execute_result"
    }
   ],
   "source": [
    "y_test.shape"
   ]
  },
  {
   "cell_type": "code",
   "execution_count": 45,
   "id": "04ac7a87",
   "metadata": {},
   "outputs": [],
   "source": [
    "# MSE (mean squared error) represents the average of the squared difference between the original and predicted values in the data set. It measures the variance of the residuals.\n",
    "mse=mean_squared_error(y_test, predictions)"
   ]
  },
  {
   "cell_type": "code",
   "execution_count": 46,
   "id": "58f99812",
   "metadata": {},
   "outputs": [
    {
     "data": {
      "text/plain": [
       "39784.76338512822"
      ]
     },
     "execution_count": 46,
     "metadata": {},
     "output_type": "execute_result"
    }
   ],
   "source": [
    "mse"
   ]
  },
  {
   "cell_type": "code",
   "execution_count": 47,
   "id": "16541341",
   "metadata": {},
   "outputs": [],
   "source": [
    "# RMSE (Root Mean Squared Error) is the square root of Mean Squared error. It measures the standard deviation of residuals.\n",
    "rmse=np.sqrt(mse)"
   ]
  },
  {
   "cell_type": "code",
   "execution_count": 48,
   "id": "e692c24d",
   "metadata": {},
   "outputs": [
    {
     "data": {
      "text/plain": [
       "199.4611826524856"
      ]
     },
     "execution_count": 48,
     "metadata": {},
     "output_type": "execute_result"
    }
   ],
   "source": [
    "rmse"
   ]
  },
  {
   "cell_type": "code",
   "execution_count": null,
   "id": "ba897c48",
   "metadata": {},
   "outputs": [],
   "source": []
  }
 ],
 "metadata": {
  "kernelspec": {
   "display_name": "Python 3",
   "language": "python",
   "name": "python3"
  },
  "language_info": {
   "codemirror_mode": {
    "name": "ipython",
    "version": 3
   },
   "file_extension": ".py",
   "mimetype": "text/x-python",
   "name": "python",
   "nbconvert_exporter": "python",
   "pygments_lexer": "ipython3",
   "version": "3.9.2"
  }
 },
 "nbformat": 4,
 "nbformat_minor": 5
}
